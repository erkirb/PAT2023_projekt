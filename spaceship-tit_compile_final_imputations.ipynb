{
 "cells": [
  {
   "cell_type": "code",
   "execution_count": 19,
   "id": "437f7fd0",
   "metadata": {},
   "outputs": [],
   "source": [
    "import pandas as pd\n",
    "df = pd.read_csv('ST_train_impute_base.csv')\n",
    "Name_impu_df = pd.read_csv('Name_impu_df.csv')\n",
    "CryoSleep_impu_df_fin = pd.read_csv('CryoSleep_impu_df_fin.csv')\n",
    "Cabin_compil_df_fin = pd.read_csv('Cabin_compil_df_fin.csv')\n",
    "HomePlanet_imput_df_fin = pd.read_csv('HomePlanet_imput_df_fin.csv')"
   ]
  },
  {
   "cell_type": "code",
   "execution_count": 20,
   "id": "9c295752",
   "metadata": {},
   "outputs": [
    {
     "name": "stdout",
     "output_type": "stream",
     "text": [
      "(4277, 13)\n",
      "(4277, 5)\n",
      "(4277, 11)\n",
      "(4277, 5)\n",
      "(4277, 4)\n"
     ]
    }
   ],
   "source": [
    "print(df.shape)\n",
    "print(Name_impu_df.shape)\n",
    "print(CryoSleep_impu_df_fin.shape)\n",
    "print(Cabin_compil_df_fin.shape)\n",
    "print(HomePlanet_imput_df_fin.shape)"
   ]
  },
  {
   "cell_type": "code",
   "execution_count": 21,
   "id": "86861ee1",
   "metadata": {},
   "outputs": [
    {
     "name": "stdout",
     "output_type": "stream",
     "text": [
      "PassengerId       0\n",
      "HomePlanet       87\n",
      "CryoSleep        93\n",
      "Cabin           100\n",
      "Destination       0\n",
      "Age               0\n",
      "VIP               0\n",
      "RoomService       0\n",
      "FoodCourt         0\n",
      "ShoppingMall      0\n",
      "Spa               0\n",
      "VRDeck            0\n",
      "Name             94\n",
      "dtype: int64\n"
     ]
    }
   ],
   "source": [
    "nan_counts = df.isna().sum()\n",
    "print(nan_counts)"
   ]
  },
  {
   "cell_type": "code",
   "execution_count": 22,
   "id": "99ef18a3",
   "metadata": {},
   "outputs": [],
   "source": [
    "df['Name_length'] = Name_impu_df['Name_length']\n",
    "df['FirstNameInitial'] = Name_impu_df['FirstNameInitial']\n",
    "df['SurnameInitial'] = Name_impu_df['SurnameInitial']"
   ]
  },
  {
   "cell_type": "code",
   "execution_count": 23,
   "id": "c76b7b99",
   "metadata": {
    "scrolled": true
   },
   "outputs": [],
   "source": [
    "df['CryoSleep'] = df['CryoSleep'].fillna(CryoSleep_impu_df_fin['CryoSleep'])"
   ]
  },
  {
   "cell_type": "code",
   "execution_count": 24,
   "id": "9d25fe88",
   "metadata": {},
   "outputs": [],
   "source": [
    "df['Cabin'] = df['Cabin'].fillna(Cabin_compil_df_fin['Cabin'])"
   ]
  },
  {
   "cell_type": "code",
   "execution_count": 25,
   "id": "1c37489e",
   "metadata": {},
   "outputs": [],
   "source": [
    "df['HomePlanet'] = df['HomePlanet'].fillna(HomePlanet_imput_df_fin['HomePlanet'])"
   ]
  },
  {
   "cell_type": "code",
   "execution_count": 26,
   "id": "310c2f23",
   "metadata": {},
   "outputs": [],
   "source": [
    "df.to_csv('ST_train_impute_final.csv', index=False)"
   ]
  },
  {
   "cell_type": "code",
   "execution_count": 27,
   "id": "b0d88d95",
   "metadata": {},
   "outputs": [
    {
     "name": "stdout",
     "output_type": "stream",
     "text": [
      "PassengerId          0\n",
      "HomePlanet           0\n",
      "CryoSleep            0\n",
      "Cabin                0\n",
      "Destination          0\n",
      "Age                  0\n",
      "VIP                  0\n",
      "RoomService          0\n",
      "FoodCourt            0\n",
      "ShoppingMall         0\n",
      "Spa                  0\n",
      "VRDeck               0\n",
      "Name                94\n",
      "Name_length          0\n",
      "FirstNameInitial     0\n",
      "SurnameInitial       0\n",
      "dtype: int64\n"
     ]
    }
   ],
   "source": [
    "nan_counts = df.isna().sum()\n",
    "print(nan_counts)"
   ]
  }
 ],
 "metadata": {
  "kernelspec": {
   "display_name": "Python 3 (ipykernel)",
   "language": "python",
   "name": "python3"
  },
  "language_info": {
   "codemirror_mode": {
    "name": "ipython",
    "version": 3
   },
   "file_extension": ".py",
   "mimetype": "text/x-python",
   "name": "python",
   "nbconvert_exporter": "python",
   "pygments_lexer": "ipython3",
   "version": "3.11.4"
  }
 },
 "nbformat": 4,
 "nbformat_minor": 5
}
