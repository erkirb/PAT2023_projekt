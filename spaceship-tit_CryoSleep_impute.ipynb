{
 "cells": [
  {
   "cell_type": "code",
   "execution_count": 19,
   "id": "85134fe2",
   "metadata": {},
   "outputs": [],
   "source": [
    "import pandas as pd\n",
    "df = pd.read_csv('ST_train.csv')\n",
    "#df = pd.read_csv('ST_test.csv')"
   ]
  },
  {
   "cell_type": "code",
   "execution_count": 20,
   "id": "268a216a",
   "metadata": {
    "scrolled": true
   },
   "outputs": [
    {
     "data": {
      "text/html": [
       "<div>\n",
       "<style scoped>\n",
       "    .dataframe tbody tr th:only-of-type {\n",
       "        vertical-align: middle;\n",
       "    }\n",
       "\n",
       "    .dataframe tbody tr th {\n",
       "        vertical-align: top;\n",
       "    }\n",
       "\n",
       "    .dataframe thead th {\n",
       "        text-align: right;\n",
       "    }\n",
       "</style>\n",
       "<table border=\"1\" class=\"dataframe\">\n",
       "  <thead>\n",
       "    <tr style=\"text-align: right;\">\n",
       "      <th></th>\n",
       "      <th>Cabin</th>\n",
       "      <th>CryoSleep</th>\n",
       "      <th>RoomService</th>\n",
       "      <th>FoodCourt</th>\n",
       "      <th>ShoppingMall</th>\n",
       "      <th>Spa</th>\n",
       "      <th>VRDeck</th>\n",
       "      <th>deck</th>\n",
       "      <th>num</th>\n",
       "      <th>side</th>\n",
       "    </tr>\n",
       "  </thead>\n",
       "  <tbody>\n",
       "    <tr>\n",
       "      <th>0</th>\n",
       "      <td>G/3/S</td>\n",
       "      <td>True</td>\n",
       "      <td>0.0</td>\n",
       "      <td>0.0</td>\n",
       "      <td>0.0</td>\n",
       "      <td>0.0</td>\n",
       "      <td>0.0</td>\n",
       "      <td>G</td>\n",
       "      <td>3</td>\n",
       "      <td>S</td>\n",
       "    </tr>\n",
       "    <tr>\n",
       "      <th>1</th>\n",
       "      <td>F/4/S</td>\n",
       "      <td>False</td>\n",
       "      <td>0.0</td>\n",
       "      <td>9.0</td>\n",
       "      <td>0.0</td>\n",
       "      <td>2823.0</td>\n",
       "      <td>0.0</td>\n",
       "      <td>F</td>\n",
       "      <td>4</td>\n",
       "      <td>S</td>\n",
       "    </tr>\n",
       "    <tr>\n",
       "      <th>2</th>\n",
       "      <td>C/0/S</td>\n",
       "      <td>True</td>\n",
       "      <td>0.0</td>\n",
       "      <td>0.0</td>\n",
       "      <td>0.0</td>\n",
       "      <td>0.0</td>\n",
       "      <td>0.0</td>\n",
       "      <td>C</td>\n",
       "      <td>0</td>\n",
       "      <td>S</td>\n",
       "    </tr>\n",
       "    <tr>\n",
       "      <th>3</th>\n",
       "      <td>C/1/S</td>\n",
       "      <td>False</td>\n",
       "      <td>0.0</td>\n",
       "      <td>6652.0</td>\n",
       "      <td>0.0</td>\n",
       "      <td>181.0</td>\n",
       "      <td>585.0</td>\n",
       "      <td>C</td>\n",
       "      <td>1</td>\n",
       "      <td>S</td>\n",
       "    </tr>\n",
       "    <tr>\n",
       "      <th>4</th>\n",
       "      <td>F/5/S</td>\n",
       "      <td>False</td>\n",
       "      <td>10.0</td>\n",
       "      <td>0.0</td>\n",
       "      <td>635.0</td>\n",
       "      <td>0.0</td>\n",
       "      <td>0.0</td>\n",
       "      <td>F</td>\n",
       "      <td>5</td>\n",
       "      <td>S</td>\n",
       "    </tr>\n",
       "  </tbody>\n",
       "</table>\n",
       "</div>"
      ],
      "text/plain": [
       "   Cabin CryoSleep  RoomService  FoodCourt  ShoppingMall     Spa  VRDeck deck  \\\n",
       "0  G/3/S      True          0.0        0.0           0.0     0.0     0.0    G   \n",
       "1  F/4/S     False          0.0        9.0           0.0  2823.0     0.0    F   \n",
       "2  C/0/S      True          0.0        0.0           0.0     0.0     0.0    C   \n",
       "3  C/1/S     False          0.0     6652.0           0.0   181.0   585.0    C   \n",
       "4  F/5/S     False         10.0        0.0         635.0     0.0     0.0    F   \n",
       "\n",
       "  num side  \n",
       "0   3    S  \n",
       "1   4    S  \n",
       "2   0    S  \n",
       "3   1    S  \n",
       "4   5    S  "
      ]
     },
     "execution_count": 20,
     "metadata": {},
     "output_type": "execute_result"
    }
   ],
   "source": [
    "CryoSleep_impu_df = df[['Cabin', 'CryoSleep', 'RoomService','FoodCourt','ShoppingMall','Spa','VRDeck']].copy()\n",
    "\n",
    "CryoSleep_impu_df[['deck', 'num', 'side']] = CryoSleep_impu_df['Cabin'].str.split('/', expand=True)\n",
    "\n",
    "CryoSleep_impu_df.head()"
   ]
  },
  {
   "cell_type": "code",
   "execution_count": 21,
   "id": "c3ffcb05",
   "metadata": {},
   "outputs": [
    {
     "name": "stdout",
     "output_type": "stream",
     "text": [
      "Cabin           100\n",
      "CryoSleep        93\n",
      "RoomService      82\n",
      "FoodCourt       106\n",
      "ShoppingMall     98\n",
      "Spa             101\n",
      "VRDeck           80\n",
      "deck            100\n",
      "num             100\n",
      "side            100\n",
      "dtype: int64\n"
     ]
    }
   ],
   "source": [
    "nan_counts = CryoSleep_impu_df.isna().sum()\n",
    "print(nan_counts)"
   ]
  },
  {
   "cell_type": "code",
   "execution_count": 22,
   "id": "b64d788d",
   "metadata": {},
   "outputs": [],
   "source": [
    "CryoSleep_impu_df.to_csv('CryoSleep_impu_df.csv', index=True)"
   ]
  },
  {
   "cell_type": "code",
   "execution_count": 23,
   "id": "c7f081b5",
   "metadata": {},
   "outputs": [],
   "source": [
    "def impute_cryosleep(row):\n",
    "    if pd.isna(row['CryoSleep']) and any(row[feature] != 0 for feature in ['RoomService', 'FoodCourt', 'ShoppingMall', 'Spa', 'VRDeck']):\n",
    "        return False\n",
    "    else:\n",
    "        return row['CryoSleep']\n",
    "\n",
    "# Apply the function to each row\n",
    "CryoSleep_impu_df['CryoSleep'] = CryoSleep_impu_df.apply(impute_cryosleep, axis=1)"
   ]
  },
  {
   "cell_type": "code",
   "execution_count": 24,
   "id": "cc921a22",
   "metadata": {},
   "outputs": [],
   "source": [
    "def impute_cryosleep(row):\n",
    "    if pd.isna(row['CryoSleep']) and row['deck'] in ['A', 'D', 'E', 'F']:\n",
    "        return False\n",
    "    else:\n",
    "        return row['CryoSleep']\n",
    "\n",
    "# Apply the function to each row\n",
    "CryoSleep_impu_df['CryoSleep'] = CryoSleep_impu_df.apply(impute_cryosleep, axis=1)"
   ]
  },
  {
   "cell_type": "code",
   "execution_count": 25,
   "id": "88fa9852",
   "metadata": {},
   "outputs": [],
   "source": [
    "CryoSleep_impu_df['CryoSleep'] = CryoSleep_impu_df['CryoSleep'].fillna(True)"
   ]
  },
  {
   "cell_type": "code",
   "execution_count": 26,
   "id": "e8628fc2",
   "metadata": {},
   "outputs": [],
   "source": [
    "CryoSleep_impu_df.to_csv('CryoSleep_impu_df_fin.csv', index=True)"
   ]
  },
  {
   "cell_type": "code",
   "execution_count": 27,
   "id": "652ec333",
   "metadata": {},
   "outputs": [
    {
     "name": "stdout",
     "output_type": "stream",
     "text": [
      "Cabin           100\n",
      "CryoSleep         0\n",
      "RoomService      82\n",
      "FoodCourt       106\n",
      "ShoppingMall     98\n",
      "Spa             101\n",
      "VRDeck           80\n",
      "deck            100\n",
      "num             100\n",
      "side            100\n",
      "dtype: int64\n"
     ]
    }
   ],
   "source": [
    "nan_counts = CryoSleep_impu_df.isna().sum()\n",
    "print(nan_counts)"
   ]
  }
 ],
 "metadata": {
  "kernelspec": {
   "display_name": "Python 3 (ipykernel)",
   "language": "python",
   "name": "python3"
  },
  "language_info": {
   "codemirror_mode": {
    "name": "ipython",
    "version": 3
   },
   "file_extension": ".py",
   "mimetype": "text/x-python",
   "name": "python",
   "nbconvert_exporter": "python",
   "pygments_lexer": "ipython3",
   "version": "3.11.4"
  }
 },
 "nbformat": 4,
 "nbformat_minor": 5
}
