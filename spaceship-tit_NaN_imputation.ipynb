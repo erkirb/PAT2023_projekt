{
 "cells": [
  {
   "cell_type": "code",
   "execution_count": 31,
   "id": "050db15a",
   "metadata": {},
   "outputs": [],
   "source": [
    "import pandas as pd\n",
    "df = pd.read_csv('ST_train.csv')"
   ]
  },
  {
   "cell_type": "markdown",
   "id": "52a8e709",
   "metadata": {},
   "source": [
    "**HomePlanet imputation**\n",
    "\n",
    "higher correlation to deck\n",
    "\n",
    "investigate 'num' correlation\n",
    "\n",
    "review services correlation"
   ]
  },
  {
   "cell_type": "code",
   "execution_count": 32,
   "id": "11c133f0",
   "metadata": {
    "scrolled": true
   },
   "outputs": [
    {
     "data": {
      "text/plain": [
       "(8693, 2)"
      ]
     },
     "execution_count": 32,
     "metadata": {},
     "output_type": "execute_result"
    }
   ],
   "source": [
    "HomePlanet_num_df = df[['HomePlanet', 'Cabin']].copy()\n",
    "HomePlanet_num_df.shape"
   ]
  },
  {
   "cell_type": "code",
   "execution_count": 33,
   "id": "3db871c6",
   "metadata": {},
   "outputs": [
    {
     "data": {
      "text/plain": [
       "(8299, 2)"
      ]
     },
     "execution_count": 33,
     "metadata": {},
     "output_type": "execute_result"
    }
   ],
   "source": [
    "HomePlanet_num_df = HomePlanet_num_df.dropna()\n",
    "HomePlanet_num_df.shape"
   ]
  },
  {
   "cell_type": "code",
   "execution_count": 34,
   "id": "82bcf755",
   "metadata": {},
   "outputs": [
    {
     "data": {
      "text/html": [
       "<div>\n",
       "<style scoped>\n",
       "    .dataframe tbody tr th:only-of-type {\n",
       "        vertical-align: middle;\n",
       "    }\n",
       "\n",
       "    .dataframe tbody tr th {\n",
       "        vertical-align: top;\n",
       "    }\n",
       "\n",
       "    .dataframe thead th {\n",
       "        text-align: right;\n",
       "    }\n",
       "</style>\n",
       "<table border=\"1\" class=\"dataframe\">\n",
       "  <thead>\n",
       "    <tr style=\"text-align: right;\">\n",
       "      <th></th>\n",
       "      <th>HomePlanet</th>\n",
       "      <th>Cabin</th>\n",
       "      <th>deck</th>\n",
       "      <th>num</th>\n",
       "      <th>side</th>\n",
       "    </tr>\n",
       "  </thead>\n",
       "  <tbody>\n",
       "    <tr>\n",
       "      <th>0</th>\n",
       "      <td>Europa</td>\n",
       "      <td>B/0/P</td>\n",
       "      <td>B</td>\n",
       "      <td>0</td>\n",
       "      <td>P</td>\n",
       "    </tr>\n",
       "    <tr>\n",
       "      <th>1</th>\n",
       "      <td>Earth</td>\n",
       "      <td>F/0/S</td>\n",
       "      <td>F</td>\n",
       "      <td>0</td>\n",
       "      <td>S</td>\n",
       "    </tr>\n",
       "    <tr>\n",
       "      <th>2</th>\n",
       "      <td>Europa</td>\n",
       "      <td>A/0/S</td>\n",
       "      <td>A</td>\n",
       "      <td>0</td>\n",
       "      <td>S</td>\n",
       "    </tr>\n",
       "    <tr>\n",
       "      <th>3</th>\n",
       "      <td>Europa</td>\n",
       "      <td>A/0/S</td>\n",
       "      <td>A</td>\n",
       "      <td>0</td>\n",
       "      <td>S</td>\n",
       "    </tr>\n",
       "    <tr>\n",
       "      <th>4</th>\n",
       "      <td>Earth</td>\n",
       "      <td>F/1/S</td>\n",
       "      <td>F</td>\n",
       "      <td>1</td>\n",
       "      <td>S</td>\n",
       "    </tr>\n",
       "  </tbody>\n",
       "</table>\n",
       "</div>"
      ],
      "text/plain": [
       "  HomePlanet  Cabin deck num side\n",
       "0     Europa  B/0/P    B   0    P\n",
       "1      Earth  F/0/S    F   0    S\n",
       "2     Europa  A/0/S    A   0    S\n",
       "3     Europa  A/0/S    A   0    S\n",
       "4      Earth  F/1/S    F   1    S"
      ]
     },
     "execution_count": 34,
     "metadata": {},
     "output_type": "execute_result"
    }
   ],
   "source": [
    "HomePlanet_num_df[['deck', 'num', 'side']] = HomePlanet_num_df['Cabin'].str.split('/', expand=True)\n",
    "HomePlanet_num_df.head()"
   ]
  },
  {
   "cell_type": "code",
   "execution_count": 35,
   "id": "e648e882",
   "metadata": {},
   "outputs": [
    {
     "data": {
      "text/html": [
       "<div>\n",
       "<style scoped>\n",
       "    .dataframe tbody tr th:only-of-type {\n",
       "        vertical-align: middle;\n",
       "    }\n",
       "\n",
       "    .dataframe tbody tr th {\n",
       "        vertical-align: top;\n",
       "    }\n",
       "\n",
       "    .dataframe thead th {\n",
       "        text-align: right;\n",
       "    }\n",
       "</style>\n",
       "<table border=\"1\" class=\"dataframe\">\n",
       "  <thead>\n",
       "    <tr style=\"text-align: right;\">\n",
       "      <th></th>\n",
       "      <th>HomePlanet</th>\n",
       "      <th>deck</th>\n",
       "      <th>num</th>\n",
       "      <th>side</th>\n",
       "    </tr>\n",
       "  </thead>\n",
       "  <tbody>\n",
       "    <tr>\n",
       "      <th>0</th>\n",
       "      <td>Europa</td>\n",
       "      <td>B</td>\n",
       "      <td>0</td>\n",
       "      <td>P</td>\n",
       "    </tr>\n",
       "    <tr>\n",
       "      <th>1</th>\n",
       "      <td>Earth</td>\n",
       "      <td>F</td>\n",
       "      <td>0</td>\n",
       "      <td>S</td>\n",
       "    </tr>\n",
       "    <tr>\n",
       "      <th>2</th>\n",
       "      <td>Europa</td>\n",
       "      <td>A</td>\n",
       "      <td>0</td>\n",
       "      <td>S</td>\n",
       "    </tr>\n",
       "    <tr>\n",
       "      <th>3</th>\n",
       "      <td>Europa</td>\n",
       "      <td>A</td>\n",
       "      <td>0</td>\n",
       "      <td>S</td>\n",
       "    </tr>\n",
       "    <tr>\n",
       "      <th>4</th>\n",
       "      <td>Earth</td>\n",
       "      <td>F</td>\n",
       "      <td>1</td>\n",
       "      <td>S</td>\n",
       "    </tr>\n",
       "  </tbody>\n",
       "</table>\n",
       "</div>"
      ],
      "text/plain": [
       "  HomePlanet deck num side\n",
       "0     Europa    B   0    P\n",
       "1      Earth    F   0    S\n",
       "2     Europa    A   0    S\n",
       "3     Europa    A   0    S\n",
       "4      Earth    F   1    S"
      ]
     },
     "execution_count": 35,
     "metadata": {},
     "output_type": "execute_result"
    }
   ],
   "source": [
    "HomePlanet_num_df = HomePlanet_num_df.drop('Cabin', axis=1)\n",
    "HomePlanet_num_df.head()"
   ]
  },
  {
   "cell_type": "code",
   "execution_count": 36,
   "id": "385e79f5",
   "metadata": {},
   "outputs": [
    {
     "name": "stdout",
     "output_type": "stream",
     "text": [
      "                         num  HomePlanet_encoded  deck_encoded  side_encoded\n",
      "num                 1.000000           -0.203172      0.533102     -0.034872\n",
      "HomePlanet_encoded -0.203172            1.000000     -0.418904      0.000528\n",
      "deck_encoded        0.533102           -0.418904      1.000000     -0.033546\n",
      "side_encoded       -0.034872            0.000528     -0.033546      1.000000\n"
     ]
    }
   ],
   "source": [
    "from sklearn.preprocessing import LabelEncoder\n",
    "# Initialize LabelEncoder\n",
    "label_encoder = LabelEncoder()\n",
    "\n",
    "# Encode 'deck' and 'side' columns\n",
    "HomePlanet_num_df['deck_encoded'] = label_encoder.fit_transform(HomePlanet_num_df['deck'])\n",
    "HomePlanet_num_df['side_encoded'] = label_encoder.fit_transform(HomePlanet_num_df['side'])\n",
    "HomePlanet_num_df['HomePlanet_encoded'] = label_encoder.fit_transform(HomePlanet_num_df['HomePlanet'])\n",
    "\n",
    "# Calculate correlation matrix for the encoded and numeric columns\n",
    "correlation_matrix = HomePlanet_num_df[['num', 'HomePlanet_encoded', 'deck_encoded', 'side_encoded']].corr()\n",
    "\n",
    "print(correlation_matrix)"
   ]
  },
  {
   "cell_type": "code",
   "execution_count": 37,
   "id": "f09cc96b",
   "metadata": {},
   "outputs": [
    {
     "name": "stdout",
     "output_type": "stream",
     "text": [
      "deck_encoded    0.640803\n",
      "side_encoded    0.000824\n",
      "num             0.425031\n",
      "dtype: float64\n"
     ]
    }
   ],
   "source": [
    "from sklearn.feature_selection import mutual_info_classif\n",
    "import pandas as pd\n",
    "\n",
    "X = HomePlanet_num_df[['deck_encoded', 'side_encoded', 'num']]\n",
    "\n",
    "# Select the target variable\n",
    "y = HomePlanet_num_df['HomePlanet_encoded']\n",
    "\n",
    "# Calculate the MI scores\n",
    "mi_scores = mutual_info_classif(X, y, discrete_features=True)\n",
    "\n",
    "# Create a Series to view the mutual information scores with feature names\n",
    "mi_series = pd.Series(mi_scores, index=X.columns)\n",
    "\n",
    "print(mi_series)"
   ]
  },
  {
   "cell_type": "code",
   "execution_count": 38,
   "id": "c629aae2",
   "metadata": {},
   "outputs": [
    {
     "data": {
      "text/plain": [
       "(8693, 6)"
      ]
     },
     "execution_count": 38,
     "metadata": {},
     "output_type": "execute_result"
    }
   ],
   "source": [
    "HomePlanet_services_df = df[['HomePlanet', 'RoomService','FoodCourt','ShoppingMall','Spa','VRDeck']].copy()\n",
    "HomePlanet_services_df.shape"
   ]
  },
  {
   "cell_type": "code",
   "execution_count": 39,
   "id": "3e1cfad0",
   "metadata": {},
   "outputs": [
    {
     "data": {
      "text/plain": [
       "(7602, 6)"
      ]
     },
     "execution_count": 39,
     "metadata": {},
     "output_type": "execute_result"
    }
   ],
   "source": [
    "HomePlanet_services_df = HomePlanet_services_df.dropna()\n",
    "HomePlanet_services_df.shape"
   ]
  },
  {
   "cell_type": "code",
   "execution_count": 40,
   "id": "82332762",
   "metadata": {},
   "outputs": [
    {
     "data": {
      "image/png": "[encoded data removed]",
      "text/plain": [
       "<Figure size 600x400 with 2 Axes>"
      ]
     },
     "metadata": {},
     "output_type": "display_data"
    }
   ],
   "source": [
    "from sklearn.preprocessing import LabelEncoder\n",
    "# Initialize LabelEncoder\n",
    "label_encoder = LabelEncoder()\n",
    "\n",
    "# Encode 'deck' and 'side' columns\n",
    "HomePlanet_services_df['HomePlanet_encoded'] = label_encoder.fit_transform(HomePlanet_services_df['HomePlanet'])\n",
    "\n",
    "# Calculate correlation matrix for the encoded and numeric columns\n",
    "correlation_matrix = HomePlanet_services_df[['HomePlanet_encoded', 'RoomService','FoodCourt','ShoppingMall','Spa','VRDeck']].corr()\n",
    "\n",
    "import seaborn as sns\n",
    "import matplotlib.pyplot as plt\n",
    "\n",
    "plt.figure(figsize=(6, 4))  # Set the figure size\n",
    "sns.heatmap(correlation_matrix, annot=True, fmt=\".2f\", cmap='coolwarm', cbar=True)\n",
    "\n",
    "plt.title('HomePlanet Correlation Matrix')\n",
    "plt.show()"
   ]
  },
  {
   "cell_type": "code",
   "execution_count": 41,
   "id": "e54f67f5",
   "metadata": {},
   "outputs": [
    {
     "data": {
      "text/html": [
       "<div>\n",
       "<style scoped>\n",
       "    .dataframe tbody tr th:only-of-type {\n",
       "        vertical-align: middle;\n",
       "    }\n",
       "\n",
       "    .dataframe tbody tr th {\n",
       "        vertical-align: top;\n",
       "    }\n",
       "\n",
       "    .dataframe thead th {\n",
       "        text-align: right;\n",
       "    }\n",
       "</style>\n",
       "<table border=\"1\" class=\"dataframe\">\n",
       "  <thead>\n",
       "    <tr style=\"text-align: right;\">\n",
       "      <th></th>\n",
       "      <th>HomePlanet</th>\n",
       "      <th>RoomService</th>\n",
       "      <th>FoodCourt</th>\n",
       "      <th>ShoppingMall</th>\n",
       "      <th>Spa</th>\n",
       "      <th>VRDeck</th>\n",
       "      <th>HomePlanet_encoded</th>\n",
       "    </tr>\n",
       "  </thead>\n",
       "  <tbody>\n",
       "    <tr>\n",
       "      <th>0</th>\n",
       "      <td>Europa</td>\n",
       "      <td>0.0</td>\n",
       "      <td>0.0</td>\n",
       "      <td>0.0</td>\n",
       "      <td>0.0</td>\n",
       "      <td>0.0</td>\n",
       "      <td>1</td>\n",
       "    </tr>\n",
       "    <tr>\n",
       "      <th>1</th>\n",
       "      <td>Earth</td>\n",
       "      <td>109.0</td>\n",
       "      <td>9.0</td>\n",
       "      <td>25.0</td>\n",
       "      <td>549.0</td>\n",
       "      <td>44.0</td>\n",
       "      <td>0</td>\n",
       "    </tr>\n",
       "    <tr>\n",
       "      <th>2</th>\n",
       "      <td>Europa</td>\n",
       "      <td>43.0</td>\n",
       "      <td>3576.0</td>\n",
       "      <td>0.0</td>\n",
       "      <td>6715.0</td>\n",
       "      <td>49.0</td>\n",
       "      <td>1</td>\n",
       "    </tr>\n",
       "    <tr>\n",
       "      <th>3</th>\n",
       "      <td>Europa</td>\n",
       "      <td>0.0</td>\n",
       "      <td>1283.0</td>\n",
       "      <td>371.0</td>\n",
       "      <td>3329.0</td>\n",
       "      <td>193.0</td>\n",
       "      <td>1</td>\n",
       "    </tr>\n",
       "    <tr>\n",
       "      <th>4</th>\n",
       "      <td>Earth</td>\n",
       "      <td>303.0</td>\n",
       "      <td>70.0</td>\n",
       "      <td>151.0</td>\n",
       "      <td>565.0</td>\n",
       "      <td>2.0</td>\n",
       "      <td>0</td>\n",
       "    </tr>\n",
       "  </tbody>\n",
       "</table>\n",
       "</div>"
      ],
      "text/plain": [
       "  HomePlanet  RoomService  FoodCourt  ShoppingMall     Spa  VRDeck  \\\n",
       "0     Europa          0.0        0.0           0.0     0.0     0.0   \n",
       "1      Earth        109.0        9.0          25.0   549.0    44.0   \n",
       "2     Europa         43.0     3576.0           0.0  6715.0    49.0   \n",
       "3     Europa          0.0     1283.0         371.0  3329.0   193.0   \n",
       "4      Earth        303.0       70.0         151.0   565.0     2.0   \n",
       "\n",
       "   HomePlanet_encoded  \n",
       "0                   1  \n",
       "1                   0  \n",
       "2                   1  \n",
       "3                   1  \n",
       "4                   0  "
      ]
     },
     "execution_count": 41,
     "metadata": {},
     "output_type": "execute_result"
    }
   ],
   "source": [
    "HomePlanet_services_df.head()"
   ]
  },
  {
   "cell_type": "code",
   "execution_count": 42,
   "id": "be01ba23",
   "metadata": {},
   "outputs": [
    {
     "name": "stdout",
     "output_type": "stream",
     "text": [
      "RoomService     0.068046\n",
      "FoodCourt       0.110602\n",
      "ShoppingMall    0.053048\n",
      "Spa             0.048386\n",
      "VRDeck          0.075282\n",
      "dtype: float64\n"
     ]
    }
   ],
   "source": [
    "X = HomePlanet_services_df[['RoomService','FoodCourt','ShoppingMall','Spa','VRDeck']]\n",
    "\n",
    "# Select the target variable\n",
    "y = HomePlanet_services_df['HomePlanet_encoded']\n",
    "\n",
    "# Calculate the MI scores\n",
    "mi_scores = mutual_info_classif(X, y, discrete_features=False)\n",
    "\n",
    "# Create a Series to view the mutual information scores with feature names\n",
    "mi_series = pd.Series(mi_scores, index=X.columns)\n",
    "\n",
    "print(mi_series)"
   ]
  },
  {
   "cell_type": "markdown",
   "id": "aef6d250",
   "metadata": {},
   "source": [
    "Verdict: services not good for prediction, use **deck and num**"
   ]
  },
  {
   "cell_type": "markdown",
   "id": "f12a4b13",
   "metadata": {},
   "source": [
    "********************"
   ]
  },
  {
   "cell_type": "markdown",
   "id": "4b14d051",
   "metadata": {},
   "source": [
    "**CryoSleep imputation**\n",
    "\n",
    "If any services used, default to FALSE\n",
    "\n",
    "if located on A,D,E,F decks, incline to FALSE"
   ]
  },
  {
   "cell_type": "markdown",
   "id": "2b308c8b",
   "metadata": {},
   "source": [
    "**Cabin imputation**\n",
    "\n",
    "Num correlate to PassengerId (Group) and HomePlanet\n",
    "\n",
    "Deck correlate to HomePlanet\n",
    "\n",
    "side no correlations, use Random Sample "
   ]
  },
  {
   "cell_type": "markdown",
   "id": "5f0aa931",
   "metadata": {},
   "source": [
    "**Destination imputation**\n",
    "\n",
    "no strong correlations"
   ]
  },
  {
   "cell_type": "markdown",
   "id": "b7fa12da",
   "metadata": {},
   "source": [
    "**Age imputation**\n",
    "\n",
    "no good correlation, review distribution, if skewed, use median"
   ]
  },
  {
   "cell_type": "markdown",
   "id": "92a411e4",
   "metadata": {},
   "source": [
    "**VIP imputation**\n",
    "\n",
    "no good correlation, use Mode"
   ]
  },
  {
   "cell_type": "markdown",
   "id": "691a5e99",
   "metadata": {},
   "source": [
    "**RoomService,FoodCourt,ShoppingMall,Spa,VRDeck imputation**\n",
    "\n",
    "use medians"
   ]
  },
  {
   "cell_type": "markdown",
   "id": "82630c46",
   "metadata": {},
   "source": [
    "**Name elements imputation**\n",
    "\n",
    "use Random Sample within boundaries of column values"
   ]
  }
 ],
 "metadata": {
  "kernelspec": {
   "display_name": "Python 3 (ipykernel)",
   "language": "python",
   "name": "python3"
  },
  "language_info": {
   "codemirror_mode": {
    "name": "ipython",
    "version": 3
   },
   "file_extension": ".py",
   "mimetype": "text/x-python",
   "name": "python",
   "nbconvert_exporter": "python",
   "pygments_lexer": "ipython3",
   "version": "3.11.4"
  }
 },
 "nbformat": 4,
 "nbformat_minor": 5
}
