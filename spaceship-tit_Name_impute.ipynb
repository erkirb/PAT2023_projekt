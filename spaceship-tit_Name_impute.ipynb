{
 "cells": [
  {
   "cell_type": "code",
   "execution_count": 19,
   "id": "f11636fd",
   "metadata": {},
   "outputs": [],
   "source": [
    "import pandas as pd\n",
    "df = pd.read_csv('ST_train.csv')\n",
    "#df = pd.read_csv('ST_test.csv')"
   ]
  },
  {
   "cell_type": "code",
   "execution_count": 20,
   "id": "d009138e",
   "metadata": {},
   "outputs": [
    {
     "data": {
      "text/html": [
       "<div>\n",
       "<style scoped>\n",
       "    .dataframe tbody tr th:only-of-type {\n",
       "        vertical-align: middle;\n",
       "    }\n",
       "\n",
       "    .dataframe tbody tr th {\n",
       "        vertical-align: top;\n",
       "    }\n",
       "\n",
       "    .dataframe thead th {\n",
       "        text-align: right;\n",
       "    }\n",
       "</style>\n",
       "<table border=\"1\" class=\"dataframe\">\n",
       "  <thead>\n",
       "    <tr style=\"text-align: right;\">\n",
       "      <th></th>\n",
       "      <th>Name</th>\n",
       "      <th>Name_length</th>\n",
       "      <th>FirstNameInitial</th>\n",
       "      <th>SurnameInitial</th>\n",
       "    </tr>\n",
       "  </thead>\n",
       "  <tbody>\n",
       "    <tr>\n",
       "      <th>0</th>\n",
       "      <td>Nelly Carsoning</td>\n",
       "      <td>15.0</td>\n",
       "      <td>N</td>\n",
       "      <td>C</td>\n",
       "    </tr>\n",
       "    <tr>\n",
       "      <th>1</th>\n",
       "      <td>Lerome Peckers</td>\n",
       "      <td>14.0</td>\n",
       "      <td>L</td>\n",
       "      <td>P</td>\n",
       "    </tr>\n",
       "    <tr>\n",
       "      <th>2</th>\n",
       "      <td>Sabih Unhearfus</td>\n",
       "      <td>15.0</td>\n",
       "      <td>S</td>\n",
       "      <td>U</td>\n",
       "    </tr>\n",
       "    <tr>\n",
       "      <th>3</th>\n",
       "      <td>Meratz Caltilter</td>\n",
       "      <td>16.0</td>\n",
       "      <td>M</td>\n",
       "      <td>C</td>\n",
       "    </tr>\n",
       "    <tr>\n",
       "      <th>4</th>\n",
       "      <td>Brence Harperez</td>\n",
       "      <td>15.0</td>\n",
       "      <td>B</td>\n",
       "      <td>H</td>\n",
       "    </tr>\n",
       "  </tbody>\n",
       "</table>\n",
       "</div>"
      ],
      "text/plain": [
       "               Name  Name_length FirstNameInitial SurnameInitial\n",
       "0   Nelly Carsoning         15.0                N              C\n",
       "1    Lerome Peckers         14.0                L              P\n",
       "2   Sabih Unhearfus         15.0                S              U\n",
       "3  Meratz Caltilter         16.0                M              C\n",
       "4   Brence Harperez         15.0                B              H"
      ]
     },
     "execution_count": 20,
     "metadata": {},
     "output_type": "execute_result"
    }
   ],
   "source": [
    "Name_impu_df = df[['Name']].copy()\n",
    "Name_impu_df['Name_length'] = Name_impu_df['Name'].str.len()\n",
    "name_parts = Name_impu_df['Name'].str.split(expand=True)\n",
    "Name_impu_df['FirstNameInitial'] = name_parts[0].str[0]\n",
    "Name_impu_df['SurnameInitial'] = name_parts[1].str[0]\n",
    "Name_impu_df.head()"
   ]
  },
  {
   "cell_type": "code",
   "execution_count": 21,
   "id": "c5c123cc",
   "metadata": {},
   "outputs": [
    {
     "name": "stdout",
     "output_type": "stream",
     "text": [
      "Name                94\n",
      "Name_length         94\n",
      "FirstNameInitial    94\n",
      "SurnameInitial      94\n",
      "dtype: int64\n"
     ]
    }
   ],
   "source": [
    "nan_counts = Name_impu_df.isna().sum()\n",
    "print(nan_counts)"
   ]
  },
  {
   "cell_type": "code",
   "execution_count": 22,
   "id": "7b3d649f",
   "metadata": {},
   "outputs": [],
   "source": [
    "import numpy as np\n",
    "\n",
    "# Impute 'Name_length' with median\n",
    "median_name_length = Name_impu_df['Name_length'].median()\n",
    "Name_impu_df['Name_length'].fillna(median_name_length, inplace=True)\n",
    "\n",
    "# Function to impute with random selection\n",
    "def impute_with_random(column):\n",
    "    non_nan_values = Name_impu_df[column].dropna().unique()\n",
    "    Name_impu_df[column] = Name_impu_df[column].apply(lambda x: np.random.choice(non_nan_values) if pd.isnull(x) else x)\n",
    "\n",
    "# Impute 'FirstNameInitial' and 'SurnameInitial' with random selections\n",
    "impute_with_random('FirstNameInitial')\n",
    "impute_with_random('SurnameInitial')"
   ]
  },
  {
   "cell_type": "code",
   "execution_count": 23,
   "id": "4232348a",
   "metadata": {},
   "outputs": [
    {
     "name": "stdout",
     "output_type": "stream",
     "text": [
      "Name                94\n",
      "Name_length          0\n",
      "FirstNameInitial     0\n",
      "SurnameInitial       0\n",
      "dtype: int64\n"
     ]
    }
   ],
   "source": [
    "nan_counts = Name_impu_df.isna().sum()\n",
    "print(nan_counts)"
   ]
  },
  {
   "cell_type": "code",
   "execution_count": 24,
   "id": "fa75297a",
   "metadata": {},
   "outputs": [],
   "source": [
    "Name_impu_df.to_csv('Name_impu_df.csv', index=True)"
   ]
  }
 ],
 "metadata": {
  "kernelspec": {
   "display_name": "Python 3 (ipykernel)",
   "language": "python",
   "name": "python3"
  },
  "language_info": {
   "codemirror_mode": {
    "name": "ipython",
    "version": 3
   },
   "file_extension": ".py",
   "mimetype": "text/x-python",
   "name": "python",
   "nbconvert_exporter": "python",
   "pygments_lexer": "ipython3",
   "version": "3.11.4"
  }
 },
 "nbformat": 4,
 "nbformat_minor": 5
}
